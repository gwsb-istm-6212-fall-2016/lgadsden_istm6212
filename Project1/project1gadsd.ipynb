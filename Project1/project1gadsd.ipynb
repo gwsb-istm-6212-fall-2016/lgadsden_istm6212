{
 "cells": [
  {
   "cell_type": "markdown",
   "metadata": {},
   "source": [
    "Lawrence Gadsden <br  \\>\n",
    "Project 1"
   ]
  },
  {
   "cell_type": "markdown",
   "metadata": {},
   "source": [
    "Problem 1 (Part A): In the play \"Little Women\", Jo is mentioned 703 times, Beth is mentioned 238 times, Meg is mentioned 285 times, while Amy is menioned 360 times."
   ]
  },
  {
   "cell_type": "code",
   "execution_count": 1,
   "metadata": {
    "collapsed": false
   },
   "outputs": [
    {
     "name": "stdout",
     "output_type": "stream",
     "text": [
      "703\r\n",
      "238\r\n",
      "385\r\n",
      "360\r\n"
     ]
    }
   ],
   "source": [
    "!cat women.txt | grep -oE \"Jo[[:space:]]\" | wc -w > counts.txt\n",
    "!cat women.txt | grep -oE \"Beth[[:space:]]\" | wc -w  >> counts.txt\n",
    "!cat women.txt | grep -oE \"Meg[[:space:]]\" | wc -w  >> counts.txt\n",
    "!cat women.txt | grep -oE \"Amy[[:space:]]\" | wc -w >> counts.txt\n",
    "!cat counts.txt"
   ]
  },
  {
   "cell_type": "markdown",
   "metadata": {},
   "source": [
    "Problem 1 (Part b): In the play \"Romeo and Juliet\", Juliet has 1,024 lines, while Romeo has 1,356 lines. "
   ]
  },
  {
   "cell_type": "code",
   "execution_count": 2,
   "metadata": {
    "collapsed": false
   },
   "outputs": [
    {
     "name": "stdout",
     "output_type": "stream",
     "text": [
      "1024\n",
      "1356\n"
     ]
    }
   ],
   "source": [
    "! cat romeo.txt | grep -E \"Jul[.]\"  | wc -w\n",
    "! cat romeo.txt | grep -E \"Rom[.]\"  | wc -w"
   ]
  },
  {
   "cell_type": "markdown",
   "metadata": {},
   "source": [
    "The top 10 departure stations are Columbus Circle / Union Station, Massachusetts Ave & Dupont Circle NW, Lincoln Memorial, Jefferson Dr & 14th St SW, Thomas Circle, 15th & P St NW, 14th & V St NW, New Hampshire Ave & T St NW, Eastern Market Metro / Pennsylvania Ave & 7th St SE, and 17th & Corcoran St NW."
   ]
  },
  {
   "cell_type": "code",
   "execution_count": 3,
   "metadata": {
    "collapsed": false
   },
   "outputs": [
    {
     "name": "stdout",
     "output_type": "stream",
     "text": [
      "  13120 Columbus Circle / Union Station\r\n",
      "   9560 Massachusetts Ave & Dupont Circle NW\r\n",
      "   9388 Lincoln Memorial\r\n",
      "   8138 Jefferson Dr & 14th St SW\r\n",
      "   7479 Thomas Circle\r\n",
      "   7401 15th & P St NW\r\n",
      "   6568 14th & V St NW\r\n",
      "   6491 New Hampshire Ave & T St NW\r\n",
      "   5649 Eastern Market Metro / Pennsylvania Ave & 7th St SE\r\n",
      "   5514 17th & Corcoran St NW\r\n"
     ]
    }
   ],
   "source": [
    "!csvcut -c5 2016q1.csv | sort | uniq -c|sort -rn | head -10 |sed 's/^ *[0-9]* //' > departstations.txt\n",
    "!csvcut -c5 2016q1.csv | sort | uniq -c|sort -rn | head -10"
   ]
  },
  {
   "cell_type": "markdown",
   "metadata": {},
   "source": [
    "The top ending stations are Columbus Circle / Union Station, Massachusetts Ave & Dupont Circle NW, Lincoln Memorial, Jefferson Dr & 14th St SW, 15th & P St NW, 14th & V St NW, Thomas Circle, New Hampshire Ave & T St NW, 5th & K St NW and 17th & Corcoran St NW. \n"
   ]
  },
  {
   "cell_type": "code",
   "execution_count": 4,
   "metadata": {
    "collapsed": false
   },
   "outputs": [
    {
     "name": "stdout",
     "output_type": "stream",
     "text": [
      "  13880 Columbus Circle / Union Station\r\n",
      "  11183 Massachusetts Ave & Dupont Circle NW\r\n",
      "   9419 Lincoln Memorial\r\n",
      "   8975 Jefferson Dr & 14th St SW\r\n",
      "   8092 15th & P St NW\r\n",
      "   7267 14th & V St NW\r\n",
      "   6997 Thomas Circle\r\n",
      "   6245 New Hampshire Ave & T St NW\r\n",
      "   5761 5th & K St NW\r\n",
      "   5651 17th & Corcoran St NW\r\n"
     ]
    }
   ],
   "source": [
    "!csvcut -c7 2016q1.csv | sort | uniq -c|sort -rn | head -10 |sed 's/^ *[0-9]* //' > endstations.txt\n",
    "!csvcut -c7 2016q1.csv | sort | uniq -c|sort -rn | head -10"
   ]
  },
  {
   "cell_type": "markdown",
   "metadata": {},
   "source": [
    "The top 20 bikes leaving from departing stations are below. "
   ]
  },
  {
   "cell_type": "code",
   "execution_count": 5,
   "metadata": {
    "collapsed": false
   },
   "outputs": [
    {
     "name": "stdout",
     "output_type": "stream",
     "text": [
      "     68 W22227\r\n",
      "     68 W21181\r\n",
      "     64 W21538\r\n",
      "     64 W20478\r\n",
      "     63 W00346\r\n",
      "     62 W00044\r\n",
      "     60 W21239\r\n",
      "     60 W00715\r\n",
      "     60 W00430\r\n",
      "     59 W22146\r\n",
      "sort: write failed: standard output: Broken pipe\r\n",
      "sort: write error\r\n"
     ]
    }
   ],
   "source": [
    "!csvcut -c5,8 2016q1.csv | csvgrep -c1  -f departstations.txt | csvcut -c2 | sort | uniq -c | sort -rn | head -10"
   ]
  },
  {
   "cell_type": "markdown",
   "metadata": {},
   "source": [
    "The top bikes arriving at ending stations are below. It is interesting to see that some of the bikes that left did not get returned. W21181 left stations 68 times but was only returned 63 times. "
   ]
  },
  {
   "cell_type": "code",
   "execution_count": 6,
   "metadata": {
    "collapsed": false
   },
   "outputs": [
    {
     "name": "stdout",
     "output_type": "stream",
     "text": [
      "     68 W22227\r\n",
      "     64 W21183\r\n",
      "     64 W20478\r\n",
      "     63 W21181\r\n",
      "     62 W21538\r\n",
      "     62 W00346\r\n",
      "     61 W00044\r\n",
      "     60 W21797\r\n",
      "     60 W21239\r\n",
      "     59 W21013\r\n",
      "sort: write failed: standard output: Broken pipe\r\n",
      "sort: write error\r\n"
     ]
    }
   ],
   "source": [
    "!csvcut -c5,8 2016q1.csv | csvgrep -c1  -f endstations.txt | csvcut -c2 | sort | uniq -c | sort -rn | head -10"
   ]
  },
  {
   "cell_type": "markdown",
   "metadata": {},
   "source": [
    "Here is a sorted word count of Little Women, using my created filters. "
   ]
  },
  {
   "cell_type": "code",
   "execution_count": 11,
   "metadata": {
    "collapsed": false
   },
   "outputs": [
    {
     "name": "stdout",
     "output_type": "stream",
     "text": [
      "   8155 and\r\n",
      "   7689 the\r\n",
      "   5152 to\r\n",
      "   3523 of\r\n",
      "   3245 her\r\n",
      "   2774 it\r\n",
      "   2503 in\r\n",
      "   2447 you\r\n",
      "   2343 she\r\n",
      "   2233 for\r\n",
      "sort: write failed: standard output: Broken pipe\r\n",
      "sort: write error\r\n"
     ]
    }
   ],
   "source": [
    "!cat women.txt | ./splitwords.py | ./lower.py | sort | uniq -c | sort -rn | head -10 "
   ]
  },
  {
   "cell_type": "markdown",
   "metadata": {},
   "source": [
    "Here is the same count using Linux filters. "
   ]
  },
  {
   "cell_type": "code",
   "execution_count": 8,
   "metadata": {
    "collapsed": false
   },
   "outputs": [
    {
     "name": "stdout",
     "output_type": "stream",
     "text": [
      "   8155 and\r\n",
      "   7689 the\r\n",
      "   5152 to\r\n",
      "   3523 of\r\n",
      "   3245 her\r\n",
      "   2774 it\r\n",
      "   2503 in\r\n",
      "   2447 you\r\n",
      "   2343 she\r\n",
      "   2233 for\r\n",
      "sort: write failed: standard output: Broken pipe\r\n",
      "sort: write error\r\n"
     ]
    }
   ],
   "source": [
    "!cat women.txt| grep -oE '\\w{{2,}}' | tr '[:upper:]' '[:lower:]' | sort | uniq -c | sort -rn | head -10"
   ]
  },
  {
   "cell_type": "markdown",
   "metadata": {},
   "source": [
    "Here is the stopwords filter paired with the Linux filter. Here we remove stopwords then print the top 25 words."
   ]
  },
  {
   "cell_type": "code",
   "execution_count": 9,
   "metadata": {
    "collapsed": false
   },
   "outputs": [
    {
     "name": "stdout",
     "output_type": "stream",
     "text": [
      "   2503 in\r\n",
      "   2447 you\r\n",
      "   1469 but\r\n",
      "   1362 jo\r\n",
      "   1135 so\r\n",
      "   1118 his\r\n",
      "   1063 had\r\n",
      "    976 on\r\n",
      "    942 not\r\n",
      "    916 if\r\n",
      "    881 all\r\n",
      "    843 my\r\n",
      "    827 said\r\n",
      "    782 him\r\n",
      "    755 me\r\n",
      "    730 little\r\n",
      "    725 one\r\n",
      "    719 they\r\n",
      "    717 have\r\n",
      "    709 when\r\n",
      "    708 do\r\n",
      "    686 meg\r\n",
      "    658 up\r\n",
      "    652 amy\r\n",
      "    632 by\r\n",
      "sort: write failed: standard output: Broken pipe\r\n",
      "sort: write error\r\n"
     ]
    }
   ],
   "source": [
    "!cat women.txt| grep -oE '\\w{{2,}}' | tr '[:upper:]' '[:lower:]' | ./stopwords.py | sort | uniq -c | sort -rn | head -25"
   ]
  }
 ],
 "metadata": {
  "kernelspec": {
   "display_name": "Python 3",
   "language": "python",
   "name": "python3"
  },
  "language_info": {
   "codemirror_mode": {
    "name": "ipython",
    "version": 3
   },
   "file_extension": ".py",
   "mimetype": "text/x-python",
   "name": "python",
   "nbconvert_exporter": "python",
   "pygments_lexer": "ipython3",
   "version": "3.4.3"
  }
 },
 "nbformat": 4,
 "nbformat_minor": 0
}
